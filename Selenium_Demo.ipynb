{
 "cells": [
  {
   "cell_type": "markdown",
   "id": "a17f76f9-688e-492e-8ec3-35d801ae4dad",
   "metadata": {},
   "source": [
    "# Scraping and Crawling Webpages using the Selenium Library\n",
    "\n",
    "Brad Marx\n",
    "\n",
    "\n",
    "- Introduction to Selenium\n",
    "- Web Scraping Considerations\n",
    "- Selenium Setup\n",
    "- Components of a Selenium Webscraper\n",
    "- Demo"
   ]
  },
  {
   "cell_type": "markdown",
   "id": "6f9b0265-30d3-4cca-bbb5-62e6147170fb",
   "metadata": {},
   "source": [
    "## Introduction to Selenium\n",
    "\n",
    "###  What is Selenium?\n",
    "[Selenium](https://www.selenium.dev/) is a tool used to automate interactions with a web browser. \n",
    "\n",
    "While the library's initial purpose was to automate web application testing, the functionality it offers is comprehensive enough to find use in almost any web scraping/interaction use case.\n",
    "\n",
    "### How Does Selenium Work?\n",
    "\n",
    "Selenium simulates opening a web page in a web browser (like Chrome, Firefox, IE). A developer may then interact with the web page in the way it would be displayed to a user/customer/etc browsing the internet. \n",
    "\n",
    "Examples of interactions include (non-exhaustive):\n",
    "- Clicking on buttons\n",
    "- Executing JavaScript\n",
    "- Filling out embedded web forms\n",
    "- **Expanding drop-down menus**\n",
    "- **Scraping rendered HTML**\n",
    "- **Following hyperlinks to other pages**\n",
    "\n",
    "The focus of this demo will be on the last three general uses.\n"
   ]
  },
  {
   "cell_type": "markdown",
   "id": "92f59e78-e208-46bc-9624-3c038e31e0e5",
   "metadata": {},
   "source": [
    "## Web Scraping Considerations\n",
    "\n",
    "### Ethical Considerations\n",
    "\n",
    "One should consider the effect of their web scraping use case on the websites to be scraped and the data to be collected: \n",
    "- Make sure the web scraper is not going to tax the server(s) of any target websites.\n",
    "    - Rapidly requesting resources (HTML, images, or other documents) from a site may strain the capabilities of their server and slow down (or even crash!) the website.\n",
    "    - This is more common for smaller sites with less resources available.\n",
    "- Only scrape data intended for the public. Try to avoid collecting personally identifiable information from sites unless given explicit permission for the use case.\n",
    "- Check websites for permission before scraping! Some explicitly prohibit web scrapers.  \n",
    "\n",
    "\n",
    "### Implementation Considerations\n",
    "\n",
    "Before doing **any** web scraping, check if the data you are looking to collect is available in a public database or API endpoint! \n",
    "\n",
    "The functionality and sohpistication of Selenium also makes it a very **heavy-weight** library for web scraping. Opening and simulating a browser incurs additional costs in time and resources that simpler web scraping implementations would avoid. \n",
    "\n",
    "If one only needs to retrieve data embedded in the HTML of *simple* web sites, they should see if the BeautifulSoup and URLLib/requests libraries alone would work for their use case. \n",
    "- This approach would simply retrieve the main DOM ([Document Object Model](https://developer.mozilla.org/en-US/docs/Web/API/Document_Object_Model), basically the HTML and JavaScript) directly from a web server as a string for parsing in BeautifulSoup.\n",
    "- Skipping the overhead of first rendering a web page in a browser makes web scraping MUCH FASTER!\n",
    "\n",
    "#### So, why even bother with Selenium for web scraping? \n",
    "\n",
    "Many modern websites have more sophisticated HTML/CSS/JavaScript that may render information in ways that cannot be accessed directly from the main DOM. For example: \n",
    "- Links from dropdown menus (or any HTML tag set to `[aria-expanded='false']`)\n",
    "- Data in [Iframes](https://www.w3schools.com/html/html_iframe.asp) (embedded web pages in another web page)\n",
    "- Dynamic text, or data that depends on the browser window size to appear\n",
    "\n",
    "Any interaction with elements on a web page will also require Selenium.  "
   ]
  },
  {
   "cell_type": "markdown",
   "id": "a9c0d77d-f25a-467d-b5a9-183a2d0cea2e",
   "metadata": {},
   "source": [
    "## Selenium Setup\n",
    "\n",
    "#### Prerequisites for this demo:\n",
    "- Have conda installed\n",
    "- Have Chrome, IE, or Firefox browser installed (ideally Chrome for the demo)\n",
    "\n",
    "#### Setup Steps\n",
    "\n",
    "1. Install the Selenium library into your environment. Run `conda env create -f selenium.yml` in the root of this repository to create such an environment.\n",
    "     \n",
    "\n",
    "2. Install browser of choice. I am using Chrome.\n",
    "\n",
    "3. Install required web driver\n",
    "   - Selenium requires a web driver executable to use in simulating a browser.\n",
    "   - Managing the proper browser and webdriver versions is a pain! We can use webdriver_manager to install and use the correct driver for our browser version.\n",
    "   - *Note*: More recent versions of Selenium have a built-in 'selenium manager' that managese the driver for you behind the scenes. However, the functionality is a little finicky, so I am opting to use the webdriver_manager object in the demo to be more explicit."
   ]
  },
  {
   "cell_type": "code",
   "execution_count": null,
   "id": "a8ef6f16-8207-4b14-b877-57d4ac53fdd0",
   "metadata": {},
   "outputs": [],
   "source": [
    "# Import libraries\n",
    "import numpy as np\n",
    "import time\n",
    "\n",
    "from bs4 import BeautifulSoup, NavigableString, CData, Tag\n",
    "\n",
    "from selenium import webdriver\n",
    "from selenium.webdriver.chrome.service import Service\n",
    "from selenium.webdriver.chrome.options import Options\n",
    "from selenium.webdriver.support.ui import Select\n",
    "from selenium.webdriver.common.by import By\n",
    "from selenium.webdriver.support.ui import WebDriverWait\n",
    "from selenium.webdriver.support import expected_conditions as EC\n",
    "from selenium.webdriver.common.action_chains import ActionChains\n",
    "from selenium.webdriver.common.keys import Keys\n",
    "\n",
    "from webdriver_manager.chrome import ChromeDriverManager\n"
   ]
  },
  {
   "cell_type": "code",
   "execution_count": null,
   "id": "b13d210e-57f6-462b-a74d-f77784c47e90",
   "metadata": {},
   "outputs": [],
   "source": [
    "# define service object that contains info on web driver\n",
    "service = Service(ChromeDriverManager().install())\n",
    "\n",
    "# Define options object that contains metadata on the browser. This can be customized in a number of ways to simulate certain traits \n",
    "options = webdriver.ChromeOptions()\n",
    "\n",
    "# Uncomment to run without displaying a browser\n",
    "# options.headless = True\n",
    "\n",
    "# Example of how to add custom options to the browser. \n",
    "# options.add_argument(\"--start-maximized\")\n",
    "# options.add_argument(\"--mute-audio\")"
   ]
  },
  {
   "cell_type": "markdown",
   "id": "6a37484e-1b2e-4a7b-94ac-caa21d91253c",
   "metadata": {},
   "source": [
    "#### Note on Options\n",
    "\n",
    "**Options** modify the behavior of the browser rendered by the driver in specific ways. After initializing an options object, we can add new arguments using the syntax: \n",
    "\n",
    "`options.add_argument(\"--<arg name>\")`\n",
    "\n",
    "Check out [This list of option arguments](https://github.com/GoogleChrome/chrome-launcher/blob/main/docs/chrome-flags-for-tools.md) to see other arguments you can use.\n",
    "\n",
    "PS: `options.headless = True` is the exception to the syntax above, and is only used for setting the browser to headless mode (i.e. the browser wont render on your screen, but will still run in the background)."
   ]
  },
  {
   "cell_type": "code",
   "execution_count": null,
   "id": "f41cb845-a54d-435d-b858-589779986940",
   "metadata": {},
   "outputs": [],
   "source": [
    "# Create the driver. This is the 'browser simulation' object! If this cell runs correctly, you should see a new empty window appear using your browser of choice.\n",
    "driver = webdriver.Chrome(service=service, options=options)\n",
    "\n",
    "# Predefine how large we want the browser window to be. This can be important when websites change their HTML layout based on the screen size. \n",
    "driver.set_window_size(1600, 1600)\n",
    "\n",
    "actions = ActionChains(driver)\n",
    "wait = WebDriverWait(driver, 50)"
   ]
  },
  {
   "cell_type": "markdown",
   "id": "a17c4129-5785-4338-843e-50092b55522f",
   "metadata": {},
   "source": [
    "## Components of a Selenium Web Scraper\n",
    "\n",
    "#### Driver\n",
    "\n",
    "The Selenium **Driver** represents the state of the browser being used. \n",
    "- We use the driver to access web pages with `driver.get(<url>)`. This tells the browser to move to a given web page.\n",
    "- The driver holds the source HTML of a web page (`driver.page_source`)\n",
    "- We query sections/components of the HTML using `driver.find_elements()`, which returns a list of matching WebELement objects\n",
    "      - We then parse these WebElements to find information of interest\n",
    "      - WebElements can be as broad or specific as desired based on the tag used in `driver.find_elements()`. Make sure you are grabbing only what you need and nothing more. \n",
    "      - Ex. using `.get_attribute()` to extract specific values from the WebElement\n",
    "      - We can also directly access the `.text` attribute of WebElements to get textual information contained in that HTML component. \n",
    "\n",
    "\n",
    "#### ActionChains\n",
    "\n",
    "The **ActionChains** are what we use to interact with the driver's web page. We must specify a driver when initializing an ActionChain. \n",
    "\n",
    "**From the Documentation:**\n",
    "\n",
    "ActionChains are a way to automate low level interactions such as mouse movements, mouse button actions, key press, and context menu interactions.\n",
    "This is useful for doing more complex actions like hover over and drag and drop.\n",
    "\n",
    "**Generate user actions.**\n",
    "\n",
    "When you call methods for actions on the ActionChains object, the actions are stored in a queue in the ActionChains object.\n",
    "\n",
    "When you call perform(), the events are fired in the order they are queued\n",
    "\n",
    "ActionChains can be used in a chain pattern:\n",
    "\n",
    "```\n",
    "menu = driver.find_element(By.CSS_SELECTOR, \".nav\")\n",
    "\n",
    "hidden_submenu = driver.find_element(By.CSS_SELECTOR, \".nav #submenu1\")\n",
    "\n",
    "ActionChains(driver).move_to_element(menu).click(hidden_submenu).perform()\n",
    "```\n",
    "\n",
    "...Or actions can be queued up one by one, then performed.:\n",
    "\n",
    "```\n",
    "menu = driver.find_element(By.CSS_SELECTOR, \".nav\")\n",
    "hidden_submenu = driver.find_element(By.CSS_SELECTOR, \".nav #submenu1\")\n",
    "\n",
    "actions = ActionChains(driver)\n",
    "actions.move_to_element(menu)\n",
    "actions.click(hidden_submenu)\n",
    "actions.perform()\n",
    "\n",
    "```\n",
    "\n",
    "#### WebDriverWait\n",
    "\n",
    "The **WebDriverWait** object is used to pause the execution of a Selenium program until a certain condition is met. \n",
    "- The execution of Python programs can be much faster than the speed a browser loads a web page.\n",
    "- Pausing execution can be important when your script is trying to access an element on a page that may take a bit of time to load. If the program tries accessing an element that hasn't loaded yet, you'll get an error.\n",
    "- We avoid this issue by using WebDriverWait to block execution of the program until the driver detects an element of interest in the loaded HTML\n",
    "\n",
    "A simple example could be:\n",
    "\n",
    "```\n",
    "wait = WebDriverWait(driver, 50)\n",
    "wait.until(EC.presence_of_element_located((By.CSS_SELECTOR, \"[class*='course-code']\")))\n",
    "```\n",
    "\n",
    "*Note*: The 50 shown above represents the number of seconds to wait for the element until we give up and pass an error. "
   ]
  },
  {
   "cell_type": "markdown",
   "id": "59ad9944-d59e-432c-8340-501db9d1311f",
   "metadata": {},
   "source": [
    "## Selenium Demo 1: Navigating Between Pages through Links and Accessing Data from HTML"
   ]
  },
  {
   "cell_type": "markdown",
   "id": "db3b12d0-3716-4e32-bbf4-461be5f51550",
   "metadata": {},
   "source": [
    "### Replace the string with a URL of your choosing! Remember the ethical considerations."
   ]
  },
  {
   "cell_type": "code",
   "execution_count": null,
   "id": "359640c9-9d20-41bc-8245-cfe2d7417372",
   "metadata": {},
   "outputs": [],
   "source": [
    "url_demo_1 = 'https://www.weather.gov/'\n",
    "driver.get(url_demo_1)"
   ]
  },
  {
   "cell_type": "markdown",
   "id": "dc5889d6-ec47-49cb-a94f-ba87e979b4df",
   "metadata": {},
   "source": [
    "### Take a look at the HTML of your page using driver.page_source\n",
    "\n",
    "Pretty messy, huh? Good thing Selenium has methods designed to parse this efficiently! "
   ]
  },
  {
   "cell_type": "code",
   "execution_count": null,
   "id": "4c3baac8-b005-4cfc-ac7e-5d82fcd4a4b5",
   "metadata": {},
   "outputs": [],
   "source": [
    "driver.page_source[:3000]\n"
   ]
  },
  {
   "cell_type": "markdown",
   "id": "75abbb8e-cfb4-4962-8c89-b066a801e6ac",
   "metadata": {},
   "source": [
    "### First, lets find all links on this web page. \n",
    "\n",
    "We access the web page via the driver. The WebElement objects returned alone dont do much...\n",
    "\n",
    "*Note*: \n",
    "- `find_elements` returns a list of 'WebElement' objects that represent sections of the HTML containing the query of interest. In this case, these are elements with the link tag, 'a'\n",
    "- There is another method called `find_element` (without the 's') that does the exact same thing, except returns only one WebElement instead of a list of all of them."
   ]
  },
  {
   "cell_type": "code",
   "execution_count": null,
   "id": "fa80a004-8051-4148-990f-5241b0da6ada",
   "metadata": {},
   "outputs": [],
   "source": [
    "links = driver.find_elements(By.TAG_NAME, \"a\")\n",
    "\n",
    "links[:5]"
   ]
  },
  {
   "cell_type": "markdown",
   "id": "377b3678-1e1c-487f-8fdc-ea7e9c09b917",
   "metadata": {},
   "source": [
    "### But WebElements have helpful attributes we can access! \n",
    "\n",
    "Attributes can be accessed with the method `get_attribute`, and text can be accessed directly with `.text`"
   ]
  },
  {
   "cell_type": "code",
   "execution_count": null,
   "id": "6492fa5d-2131-4021-88cb-f967b9565e53",
   "metadata": {},
   "outputs": [],
   "source": [
    "\n",
    "print(f'URL of the first link: {links[0].get_attribute('href')}')\n",
    "print(f'Text of the first link: {links[0].text}')"
   ]
  },
  {
   "cell_type": "markdown",
   "id": "4cbba7dc-8184-4959-b3e4-4fe1929a70b8",
   "metadata": {},
   "source": [
    "### Lets only consider links with corresponding text\n",
    "\n",
    "You can print out the link names and URL if you want (Could be a long list, lets only print 10)"
   ]
  },
  {
   "cell_type": "code",
   "execution_count": null,
   "id": "92a95c62-8745-4ec1-921c-8f2abc01777b",
   "metadata": {},
   "outputs": [],
   "source": [
    "\n",
    "visual_links = [elem for elem in links if len(elem.text) > 0]\n",
    "\n",
    "print([(viz_lnk.text, viz_lnk.get_attribute('href')) for viz_lnk in visual_links][:10])"
   ]
  },
  {
   "cell_type": "markdown",
   "id": "8d0090c7-ba40-43be-9e35-62007e1eefcf",
   "metadata": {},
   "source": [
    "### Now, lets pick a link we want to follow from the list above\n",
    "\n",
    "First, index or hardcode your new URL here. Remember, Specify the href string, not the WebElement object directly.\n",
    "\n",
    "Then we call `driver.get` again with the new link and check the Selenium browser to see the new page!"
   ]
  },
  {
   "cell_type": "code",
   "execution_count": null,
   "id": "c89d8dbe-595c-4690-8d55-ef3ec0aaec73",
   "metadata": {},
   "outputs": [],
   "source": [
    "link_to_follow = visual_links[1].get_attribute('href')\n",
    "\n",
    "driver.get(link_to_follow)"
   ]
  },
  {
   "cell_type": "markdown",
   "id": "eeb36b71-1ece-4011-be26-c41f03414509",
   "metadata": {},
   "source": [
    "### lets look at the text from the new HTML\n",
    "\n",
    "We can do this with BeautifulSoup."
   ]
  },
  {
   "cell_type": "code",
   "execution_count": null,
   "id": "8a9b02ab-c778-4a89-99d4-9edd035b4a8c",
   "metadata": {},
   "outputs": [],
   "source": [
    "soup = BeautifulSoup(driver.page_source, 'html.parser')\n",
    "\n",
    "# Remove the replace() method to see how the text looks with newlines\n",
    "print(soup.get_text().replace('\\n', ''))"
   ]
  },
  {
   "cell_type": "markdown",
   "id": "1a44acae-2060-46e8-84a7-89aaccb7f8c7",
   "metadata": {},
   "source": [
    "## Selenium Demo 2: Scrape Class Info from CAB! \n",
    "\n",
    "**GOAL**: Look up a series of course codes in CAB and extract a dictionary of course information for each. Return a list of class dictionaries at the end. \n",
    "\n",
    "We can use Selenium functionality to interact with a dynamic web page, and scrape data that would not originally be displayed in the source HTML.\n",
    "\n",
    "**WARNING**: When we work with elements on a web page, we need to make sure they are *loaded* before we try accessing them. Trying to access an element that has not loaded yet is a very common error that arises when using Selenium.\n",
    "\n",
    "Possible solutions:\n",
    "- Use the `wait` object to make the program stop until a certain element appears: `wait.until(EC.presence_of_element_located((By.<choose a selector to use>, \"<target tag,class,etc.>\")))`\n",
    "- Use the `time` library to force the program to pause for a fixed number of seconds at a given point in the stack: `time.sleep(<time in seconds>)` (This does NOT stop the browser from loading the elements while the program waits!)"
   ]
  },
  {
   "cell_type": "code",
   "execution_count": null,
   "id": "b22f034a-09ab-4156-a272-f8011e2ac7e4",
   "metadata": {},
   "outputs": [],
   "source": [
    "\n",
    "def lookup_class(class_code: str, driver, actions, wait) -> None:\n",
    "    ### Moving to the search text box and selecting it ###\n",
    "    # Find the text box we will use to type in our search query\n",
    "    search_box = driver.find_element(By.CSS_SELECTOR, \"[id='crit-keyword']\")\n",
    "    \n",
    "    # Define the ActionChain. This will simulate moving your cursor to the search box and clicking on it\n",
    "    mouse = actions.move_to_element(search_box)\n",
    "    mouse.click(on_element=search_box)\n",
    "    search_box.clear()\n",
    "    ### Typing in a query and clicking enter ###\n",
    "    mouse.send_keys(class_code)\n",
    "    mouse.send_keys(Keys.ENTER)\n",
    "    mouse.perform()\n",
    "\n",
    "    # Make sure the web page was updated before moving on\n",
    "    time.sleep(2)\n",
    "\n",
    "    ### Moving to the first result and clicking it ###\n",
    "    first_result = driver.find_element(By.CSS_SELECTOR, \"[class='result result--group-start']\")\n",
    "    mouse.move_to_element(first_result)\n",
    "    mouse.click(on_element=first_result)\n",
    "    mouse.perform()\n",
    "    \n",
    "\n",
    "def scrape_class_info(driver, wait) -> dict:\n",
    "    ### Scraping class information of interest ###\n",
    "    class_detail_dict = {}\n",
    "\n",
    "    # Make sure the web page was updated before moving on\n",
    "    wait.until(EC.presence_of_element_located((By.CSS_SELECTOR, \"[class*='course-code']\")))\n",
    "    # Collect data not in the\n",
    "    class_detail_dict['Course Code'] = driver.find_element(By.CSS_SELECTOR,  \"[class*='course-code']\").text\n",
    "    class_detail_dict['Course Name'] = driver.find_element(By.CSS_SELECTOR,  \"[class*='title text']\").text\n",
    "    \n",
    "    # Iterate through each text section to extract course details\n",
    "    # The syntax [class^='section section'] with the '^' means to find every HTML element that has a class attribute STARTING with 'section section'\n",
    "    for course_detail_sect in driver.find_elements(By.CSS_SELECTOR,  \"[class^='section section']\"):\n",
    "        \n",
    "        sect_title = course_detail_sect.find_element(By.CSS_SELECTOR, \"[class='section__title']\")\n",
    "        sect_text = course_detail_sect.find_element(By.CSS_SELECTOR, \"[class='section__content']\")\n",
    "        \n",
    "        class_detail_dict[sect_title.text] = sect_text.text\n",
    "    \n",
    "    return class_detail_dict\n",
    "\n",
    "def reset_search(driver, actions) -> None:\n",
    "    ### Find and click the button that resets the search ###\n",
    "    reset_box = driver.find_element(By.CSS_SELECTOR, \"[data-action='reset-search']\")\n",
    "    mouse = actions.move_to_element(reset_box)\n",
    "    mouse.click()\n",
    "    mouse.perform()\n",
    "\n"
   ]
  },
  {
   "cell_type": "code",
   "execution_count": null,
   "id": "840312ef-ab2d-4471-a695-2175151c71c6",
   "metadata": {},
   "outputs": [],
   "source": [
    "url = 'https://cab.brown.edu/'\n",
    "# Load the URL on the Selenium browser instance\n",
    "driver.get(url)\n",
    "\n",
    "schedule = ['DATA2020', 'CS2470', 'DATA1450', 'baddata']\n",
    "class_info_list = []\n",
    "\n",
    "for class_code in schedule:\n",
    "    try:\n",
    "        lookup_class(class_code=class_code, driver=driver, actions=actions, wait=wait)\n",
    "    except:\n",
    "        print(f'Unable to find class {class_code}!')\n",
    "        continue\n",
    "    class_data = scrape_class_info(driver=driver, wait=wait)\n",
    "\n",
    "    reset_search(driver=driver, actions=actions)\n",
    "\n",
    "    class_info_list.append(class_data)\n",
    "\n",
    "driver.quit()\n",
    "class_info_list"
   ]
  },
  {
   "cell_type": "code",
   "execution_count": null,
   "id": "d44a73ad-42d9-48c3-93b1-e82a04ebfda4",
   "metadata": {},
   "outputs": [],
   "source": []
  }
 ],
 "metadata": {
  "kernelspec": {
   "display_name": "Python 3 (ipykernel)",
   "language": "python",
   "name": "python3"
  },
  "language_info": {
   "codemirror_mode": {
    "name": "ipython",
    "version": 3
   },
   "file_extension": ".py",
   "mimetype": "text/x-python",
   "name": "python",
   "nbconvert_exporter": "python",
   "pygments_lexer": "ipython3",
   "version": "3.12.1"
  }
 },
 "nbformat": 4,
 "nbformat_minor": 5
}

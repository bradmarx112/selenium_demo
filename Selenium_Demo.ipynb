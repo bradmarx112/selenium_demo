{
 "cells": [
  {
   "cell_type": "markdown",
   "id": "a17f76f9-688e-492e-8ec3-35d801ae4dad",
   "metadata": {},
   "source": [
    "# Scraping and Crawling Webpages using the Selenium Library\n",
    "\n",
    "Brad Marx\n",
    "\n",
    "\n",
    "- Introduction to Selenium\n",
    "- Web Scraping Considerations\n",
    "- Selenium Setup\n",
    "- Components of a Selenium Webscraper\n",
    "- Demo"
   ]
  },
  {
   "cell_type": "markdown",
   "id": "6f9b0265-30d3-4cca-bbb5-62e6147170fb",
   "metadata": {},
   "source": [
    "## Introduction to Selenium\n",
    "\n",
    "###  What is Selenium?\n",
    "[Selenium](https://www.selenium.dev/) is a tool used to automate interactions with a web browser. \n",
    "\n",
    "While the library's initial purpose was to automate web application testing, the functionality it offers is comprehensive enough to find use in almost any web scraping/interaction use case.\n",
    "\n",
    "### How Does Selenium Work?\n",
    "\n",
    "Selenium simulates opening a web page in a web browser (like Chrome, Firefox, IE). A developer may then interact with the web page in the way it would be displayed to a user/customer/etc browsing the internet. \n",
    "\n",
    "Examples of interactions include (non-exhaustive):\n",
    "- Clicking on buttons\n",
    "- Executing JavaScript\n",
    "- Filling out embedded web forms\n",
    "- **Expanding drop-down menus**\n",
    "- **Scraping rendered HTML**\n",
    "- **Following hyperlinks to other pages**\n",
    "\n",
    "The focus of this demo will be on the last three general uses.\n"
   ]
  },
  {
   "cell_type": "markdown",
   "id": "92f59e78-e208-46bc-9624-3c038e31e0e5",
   "metadata": {},
   "source": [
    "## Web Scraping Considerations\n",
    "\n",
    "### Ethical Considerations\n",
    "\n",
    "One should consider the effect of their web scraping use case on the websites to be scraped and the data to be collected: \n",
    "- Make sure the web scraper is not going to tax the server(s) of any target websites.\n",
    "    - Rapidly requesting resources (HTML, images, or other documents) from a site may strain the capabilities of their server and slow down (or even crash!) the website.\n",
    "    - This is more common for smaller sites with less resources available.\n",
    "- Only scrape data intended for the public. Try to avoid collecting personally identifiable information from sites unless given explicit permission for the use case.\n",
    "\n",
    "\n",
    "### Implementation Considerations\n",
    "\n",
    "Before doing **any** web scraping, check if the data you are looking to collect is available in a public database or API endpoint! \n",
    "\n",
    "The functionality and sohpistication of Selenium also makes it a very **heavy-weight** library for web scraping. Opening and simulating a browser incurs additional costs in time and resources that simpler web scraping implementations would avoid. \n",
    "\n",
    "If one only needs to retrieve data embedded in the HTML of *simple* web sites, they should see if the BeautifulSoup and URLLib/requests libraries alone would work for their use case. \n",
    "- This approach would simply retrieve the main DOM ([Document Object Model](https://developer.mozilla.org/en-US/docs/Web/API/Document_Object_Model), basically the HTML and JavaScript) directly from a web server as a string for parsing in BeautifulSoup.\n",
    "- Skipping the overhead of first rendering a web page in a browser makes web scraping MUCH FASTER!\n",
    "\n",
    "#### So, why even bother with Selenium for web scraping? \n",
    "\n",
    "Many modern websites have more sophisticated HTML/CSS/JavaScript that may render information in ways that cannot be accessed directly from the main DOM. For example: \n",
    "- Links from dropdown menus (or any HTML tag set to `[aria-expanded='false']`)\n",
    "- Data in [Iframes](https://www.w3schools.com/html/html_iframe.asp) (embedded web pages in another web page)\n",
    "- Dynamic text, or data that depends on the browser window size to appear\n",
    "\n",
    "Any interaction with elements on a web page will also require Selenium.  "
   ]
  },
  {
   "cell_type": "markdown",
   "id": "a9c0d77d-f25a-467d-b5a9-183a2d0cea2e",
   "metadata": {},
   "source": [
    "## Selenium Setup\n",
    "\n",
    "1. Install the Selenium library into your environment. Run `conda env create -f selenium.yml` in the root of this repository to create such an environment.\n",
    "     \n",
    "\n",
    "2. Install browser of choice. I am using Chrome.\n",
    "\n",
    "3. Install required web driver\n",
    "   - Selenium requires a web driver executable to use in simulating a browser.\n",
    "   - Managing the proper browser and webdriver versions is a pain! We can use webdriver_manager to install and use the correct driver for our browser version.\n",
    "   - *Note*: More recent versions of Selenium have a built-in 'selenium manager' that managese the driver for you behind the scenes. However, the functionality is a little finicky, so I am opting to use the webdriver_manager object in the demo to be more explicit."
   ]
  },
  {
   "cell_type": "code",
   "execution_count": 1,
   "id": "a8ef6f16-8207-4b14-b877-57d4ac53fdd0",
   "metadata": {},
   "outputs": [],
   "source": [
    "# Import libraries\n",
    "import numpy as np\n",
    "import time\n",
    "\n",
    "from bs4 import BeautifulSoup, NavigableString, CData, Tag\n",
    "\n",
    "from selenium import webdriver\n",
    "from selenium.webdriver.chrome.service import Service\n",
    "from selenium.webdriver.chrome.options import Options\n",
    "from selenium.webdriver.support.ui import Select\n",
    "from selenium.webdriver.common.by import By\n",
    "from selenium.webdriver.support.ui import WebDriverWait\n",
    "from selenium.webdriver.support import expected_conditions as EC\n",
    "from selenium.webdriver.common.action_chains import ActionChains\n",
    "from selenium.webdriver.common.keys import Keys\n",
    "\n",
    "from webdriver_manager.chrome import ChromeDriverManager\n"
   ]
  },
  {
   "cell_type": "code",
   "execution_count": 2,
   "id": "b13d210e-57f6-462b-a74d-f77784c47e90",
   "metadata": {},
   "outputs": [],
   "source": [
    "# define service object that contains info on web driver\n",
    "service = Service(ChromeDriverManager().install())\n",
    "\n",
    "# Define options object that contains metadata on the browser. This can be customized in a number of ways (more on that later) \n",
    "options = webdriver.ChromeOptions()\n",
    "\n",
    "# Uncomment to run without displaying a browser\n",
    "# options.headless = True"
   ]
  },
  {
   "cell_type": "code",
   "execution_count": 3,
   "id": "f41cb845-a54d-435d-b858-589779986940",
   "metadata": {},
   "outputs": [],
   "source": [
    "\n",
    "# Create the driver. This is the 'browser simulation' object! If this cell runs correctly, you should see a new empty window appear using your browser of choice.\n",
    "driver = webdriver.Chrome(service=service, options=options)\n",
    "driver.set_window_size(1600, 1600)\n",
    "\n",
    "actions = ActionChains(driver)\n",
    "wait = WebDriverWait(driver, 50)"
   ]
  },
  {
   "cell_type": "markdown",
   "id": "a17c4129-5785-4338-843e-50092b55522f",
   "metadata": {},
   "source": [
    "## Components of a Selenium Web Scraper\n",
    "\n",
    "#### Driver\n",
    "\n",
    "#### ActionChains\n",
    "\n",
    "ActionChains are a way to automate low level interactions such as mouse movements, mouse button actions, key press, and context menu interactions.\n",
    "This is useful for doing more complex actions like hover over and drag and drop.\n",
    "\n",
    "**Generate user actions.**\n",
    "\n",
    "When you call methods for actions on the ActionChains object, the actions are stored in a queue in the ActionChains object.\n",
    "\n",
    "When you call perform(), the events are fired in the order they are queued\n",
    "\n",
    "ActionChains can be used in a chain pattern:\n",
    "\n",
    "```\n",
    "menu = driver.find_element(By.CSS_SELECTOR, \".nav\")\n",
    "\n",
    "hidden_submenu = driver.find_element(By.CSS_SELECTOR, \".nav #submenu1\")\n",
    "\n",
    "ActionChains(driver).move_to_element(menu).click(hidden_submenu).perform()\n",
    "```\n",
    "\n",
    "...Or actions can be queued up one by one, then performed.:\n",
    "\n",
    "```\n",
    "menu = driver.find_element(By.CSS_SELECTOR, \".nav\")\n",
    "hidden_submenu = driver.find_element(By.CSS_SELECTOR, \".nav #submenu1\")\n",
    "\n",
    "actions = ActionChains(driver)\n",
    "actions.move_to_element(menu)\n",
    "actions.click(hidden_submenu)\n",
    "actions.perform()\n",
    "\n",
    "```\n",
    "\n",
    "#### Wait"
   ]
  },
  {
   "cell_type": "markdown",
   "id": "59ad9944-d59e-432c-8340-501db9d1311f",
   "metadata": {},
   "source": [
    "## Selenium Demo 1: Navigating Between Pages through Links and Accessing Data from HTML"
   ]
  },
  {
   "cell_type": "markdown",
   "id": "db3b12d0-3716-4e32-bbf4-461be5f51550",
   "metadata": {},
   "source": [
    "### Replace the string with a URL of your choosing! Remember the ethical considerations."
   ]
  },
  {
   "cell_type": "code",
   "execution_count": 4,
   "id": "359640c9-9d20-41bc-8245-cfe2d7417372",
   "metadata": {},
   "outputs": [],
   "source": [
    "url_demo_1 = 'https://www.weather.gov/'\n",
    "driver.get(url_demo_1)"
   ]
  },
  {
   "cell_type": "markdown",
   "id": "dc5889d6-ec47-49cb-a94f-ba87e979b4df",
   "metadata": {},
   "source": [
    "### Take a look at the HTML of your page using driver.page_source\n",
    "\n",
    "Pretty messy, huh? Good thing Selenium has methods designed to parse this efficiently! "
   ]
  },
  {
   "cell_type": "code",
   "execution_count": 5,
   "id": "4c3baac8-b005-4cfc-ac7e-5d82fcd4a4b5",
   "metadata": {},
   "outputs": [
    {
     "data": {
      "text/plain": [
       "'<html xmlns=\"http://www.w3.org/1999/xhtml\"><head>\\n        <link rel=\"schema.DC\" href=\"http://purl.org/dc/elements/1.1/\"><title>National Weather Service</title><meta name=\"DC.title\" content=\"National Weather Service\"><meta name=\"DC.description\" content=\"NOAA National Weather Service National Weather Service\"><meta name=\"DC.creator\" content=\"US Department of Commerce, NOAA, National Weather Service\"><meta name=\"DC.date.created\" scheme=\"ISO8601\" content=\"\"><meta name=\"DC.language\" scheme=\"DCTERMS.RFC1766\" content=\"EN-US\"><meta name=\"DC.keywords\" content=\"weather, National Weather Service\"><meta name=\"DC.publisher\" content=\"NOAA\\'s National Weather Service\"><meta name=\"DC.contributor\" content=\"National Weather Service\"><meta name=\"DC.rights\" content=\"http://www.weather.gov/disclaimer.php\"><meta name=\"rating\" content=\"General\"><meta name=\"robots\" content=\"index,follow\">\\n\\n        <link href=\"/css/weatherstyle.css\" rel=\"stylesheet\" type=\"text/css\">\\n        <link href=\"/css/template.css\" rel=\"stylesheet\" type=\"text/css\">\\n        <link href=\"/css/myfcst.css\" rel=\"stylesheet\" type=\"text/css\">\\n        <link href=\"/css/ForecastSearch.css\" rel=\"stylesheet\" type=\"text/css\">\\n        <link href=\"/css/pointforecast.css\" rel=\"stylesheet\" type=\"text/css\">\\n        <link href=\"/css/jqueryui10_3_1custom/jquery-ui-1.10.3.custom.min.css\" rel=\"stylesheet\" type=\"text/css\">\\n        <script type=\"text/javascript\" async=\"\" src=\"https://www.googletagmanager.com/gtag/js?id=G-736JJ6NL0V&amp;l=dataLayer&amp;cx=c\"></script><script type=\"text/javascript\" async=\"\" src=\"https://cdn.gov.cfigroup.com/webmon/s/source/webmon/ce989efe8b1040/webmon.js\"></script><script async=\"\" src=\"https://www.google-analytics.com/analytics.js\"></script><script type=\"text/javascript\" src=\"/js/jquery-1.10.2.min.js\"></script>\\n        <!-- <script type=\"text/javascript\" src=\"/js/jquery.mobile-1.4.0.min.js\"></script> //-->\\n        <script type=\"text/javascript\" src=\"/js/jquery-ui-1.10.3.custom.min.js\"></script>\\n        <script type=\"text/javascript\" src=\"/js/jquery.hoverIntent.minified.js\"></script>\\n        <script type=\"text/javascript\" src=\"/js/ForecastSearch.js\"></script>\\n        <script type=\"text/javascript\" id=\"_fed_an_ua_tag\" src=\"https://dap.digitalgov.gov/Universal-Federated-Analytics-Min.js?agency=DOC&amp;sub-agency=NOAA&amp;pua=G-736JJ6NL0V\"></script><script type=\"text/javascript\" src=\"https://www.googletagmanager.com/gtag/js?id=G-CSLL4ZEK4L\"></script>\\n        <script type=\"text/javascript\" src=\"/js/topNavMenu.js\"></script>\\n        <script type=\"text/javascript\" src=\"/js/NidsESRI.js\"></script>\\n        <script type=\"text/javascript\" src=\"/js/nwsexit.js\"></script>\\n        <script type=\"text/javascript\">\\n        (function() {\\n          var a = document.createElement(\\'script\\');\\n          a.type = \\'text/javascript\\';\\n          a.async = true;\\n          a.src = \\'https://cdn.gov.cfigroup.com/webmon/s/source/webmon/ce989efe8b1040/webmon.js\\';\\n          var b = document.getElementsByTagName(\\'script\\')[0];\\n    '"
      ]
     },
     "execution_count": 5,
     "metadata": {},
     "output_type": "execute_result"
    }
   ],
   "source": [
    "driver.page_source[:3000]\n"
   ]
  },
  {
   "cell_type": "markdown",
   "id": "75abbb8e-cfb4-4962-8c89-b066a801e6ac",
   "metadata": {},
   "source": [
    "### First, lets find all links on this web page. \n",
    "\n",
    "We access the web page via the driver. The WebElement objects returned alone dont do much...\n",
    "\n",
    "*Note*: \n",
    "- `find_elements` returns a list of 'WebElement' objects that represent sections of the HTML containing the query of interest. In this case, these are elements with the link tag, 'a'\n",
    "- There is another method called `find_element` (without the 's') that does the exact same thing, except returns only one WebElement instead of a list of all of them."
   ]
  },
  {
   "cell_type": "code",
   "execution_count": 6,
   "id": "fa80a004-8051-4148-990f-5241b0da6ada",
   "metadata": {},
   "outputs": [
    {
     "data": {
      "text/plain": [
       "[<selenium.webdriver.remote.webelement.WebElement (session=\"ec45f5d7ea95b99b68e80d829b661d87\", element=\"331191365C9D6BE4B35A82B98A3975A9_element_36\")>,\n",
       " <selenium.webdriver.remote.webelement.WebElement (session=\"ec45f5d7ea95b99b68e80d829b661d87\", element=\"331191365C9D6BE4B35A82B98A3975A9_element_37\")>,\n",
       " <selenium.webdriver.remote.webelement.WebElement (session=\"ec45f5d7ea95b99b68e80d829b661d87\", element=\"331191365C9D6BE4B35A82B98A3975A9_element_38\")>,\n",
       " <selenium.webdriver.remote.webelement.WebElement (session=\"ec45f5d7ea95b99b68e80d829b661d87\", element=\"331191365C9D6BE4B35A82B98A3975A9_element_39\")>,\n",
       " <selenium.webdriver.remote.webelement.WebElement (session=\"ec45f5d7ea95b99b68e80d829b661d87\", element=\"331191365C9D6BE4B35A82B98A3975A9_element_40\")>]"
      ]
     },
     "execution_count": 6,
     "metadata": {},
     "output_type": "execute_result"
    }
   ],
   "source": [
    "links = driver.find_elements(By.TAG_NAME, \"a\")\n",
    "\n",
    "links[:5]"
   ]
  },
  {
   "cell_type": "markdown",
   "id": "377b3678-1e1c-487f-8fdc-ea7e9c09b917",
   "metadata": {},
   "source": [
    "### But WebElements have helpful attributes we can access! \n",
    "\n",
    "Attributes can be accessed with the method `get_attribute`, and text can be accessed directly with `.text`"
   ]
  },
  {
   "cell_type": "code",
   "execution_count": 7,
   "id": "6492fa5d-2131-4021-88cb-f967b9565e53",
   "metadata": {},
   "outputs": [
    {
     "name": "stdout",
     "output_type": "stream",
     "text": [
      "URL of the first link: http://www.weather.gov/\n",
      "Text of the first link: \n"
     ]
    }
   ],
   "source": [
    "\n",
    "print(f'URL of the first link: {links[0].get_attribute('href')}')\n",
    "print(f'Text of the first link: {links[0].text}')"
   ]
  },
  {
   "cell_type": "markdown",
   "id": "4cbba7dc-8184-4959-b3e4-4fe1929a70b8",
   "metadata": {},
   "source": [
    "### Lets only consider links with corresponding text\n",
    "\n",
    "You can print out the link names and URL if you want (Could be a long list, lets only print 10)"
   ]
  },
  {
   "cell_type": "code",
   "execution_count": 8,
   "id": "92a95c62-8745-4ec1-921c-8f2abc01777b",
   "metadata": {},
   "outputs": [
    {
     "name": "stdout",
     "output_type": "stream",
     "text": [
      "[('HOME', 'https://www.weather.gov/#'), ('FORECAST', 'http://www.weather.gov/forecastmaps'), ('PAST WEATHER', 'https://www.weather.gov/wrh/climate/'), ('SAFETY', 'http://www.weather.gov/safety'), ('INFORMATION', 'http://www.weather.gov/informationcenter'), ('EDUCATION', 'http://www.weather.gov/education'), ('NEWS', 'http://www.weather.gov/news/'), ('SEARCH', 'http://www.weather.gov/search'), ('ABOUT', 'http://www.weather.gov/about'), ('Location Help', \"javascript:void(window.open('http://weather.gov/ForecastSearchHelp.html','locsearchhelp','status=0,toolbar=0,location=0,menubar=0,directories=0,resizable=1,scrollbars=1,height=500,width=530').focus());\")]\n"
     ]
    }
   ],
   "source": [
    "\n",
    "visual_links = [elem for elem in links if len(elem.text) > 0]\n",
    "\n",
    "print([(viz_lnk.text, viz_lnk.get_attribute('href')) for viz_lnk in visual_links][:10])"
   ]
  },
  {
   "cell_type": "markdown",
   "id": "8d0090c7-ba40-43be-9e35-62007e1eefcf",
   "metadata": {},
   "source": [
    "### Now, lets pick a link we want to follow from the list above\n",
    "\n",
    "First, index or hardcode your new URL here. Remember, Specify the href string, not the WebElement object directly.\n",
    "\n",
    "Then we call `driver.get` again with the new link and check the Selenium browser to see the new page!"
   ]
  },
  {
   "cell_type": "code",
   "execution_count": 10,
   "id": "c89d8dbe-595c-4690-8d55-ef3ec0aaec73",
   "metadata": {},
   "outputs": [],
   "source": [
    "link_to_follow = visual_links[1].get_attribute('href')\n",
    "\n",
    "driver.get(link_to_follow)"
   ]
  },
  {
   "cell_type": "markdown",
   "id": "eeb36b71-1ece-4011-be26-c41f03414509",
   "metadata": {},
   "source": [
    "### lets look at the text from the new HTML\n",
    "\n",
    "We can do this with BeautifulSoup."
   ]
  },
  {
   "cell_type": "code",
   "execution_count": 11,
   "id": "8a9b02ab-c778-4a89-99d4-9edd035b4a8c",
   "metadata": {},
   "outputs": [
    {
     "name": "stdout",
     "output_type": "stream",
     "text": [
      "National Forecast MapsHOMEFORECAST    Local   Graphical   Aviation   Marine   Rivers and Lakes   Hurricanes   Severe Weather   Fire Weather   Sun/Moon   Long Range Forecasts   Climate Prediction   Space Weather  PAST WEATHER    Past Weather   Heating/Cooling Days   Monthly Temperatures   Records   Astronomical Data  SAFETY    Tsunamis   Floods   Beach Hazards   Wildfire   Cold   Tornadoes   Air Quality   Fog   Heat   Hurricanes   Lightning   Safe Boating   Rip Currents   Thunderstorms   Space Weather   Sun (Ultraviolet Radiation)   Safety Campaigns   Wind   Drought   Winter Weather  INFORMATION    Wireless Emergency Alerts   Brochures   Weather-Ready Nation   Cooperative Observers   Daily Briefing   Damage/Fatality/Injury Statistics   Forecast Models   GIS Data Portal   NOAA Weather Radio   Publications   SKYWARN Storm Spotters   StormReady   TsunamiReady   Service Change Notices  EDUCATION    Be A Force of Nature   NWS Education Home  NEWS    NWS News   Events   Pubs/Brochures/Booklets    NWS Media Contacts  SEARCH Search ForNWSAll NOAAABOUT    About NWS   Organization   Strategic Plan   Commitment to Diversity   For NWS Employees   International   National Centers   Careers   Contact Us   Glossary   Social Media   Customize Your Weather.govEnter Your City, ST or ZIP CodeRemember MePrivacy PolicyLOADING...  National Weather Service National Headquarters   National Forecast Maps  Weather.gov > National Forecast Maps         National Forecast ChartHigh Resolution Version  | Previous Days Weather MapsAnimated Forecast Maps | Alaska Maps | Pacific Islands MapOcean Maps | Legend | About These Maps                                                                                                                                           National TemperatureAlaska | Hawaii | Guam | Puerto Rico/Virgin IslandsMore from the National Digital Forecast Database Short Range ForecastsShort range forecast products depicting pressure patterns, circulation centers and fronts, and types and extent of precipitation.12 Hour | 24 Hour | 36 Hour | 48 HourMedium Range ForecastsMedium range forecast products depicting pressure patterns and circulation centers and frontsDay 3 | Day 4 | Day 5 | Day 6Precipitation AmountsQuantitative precipitation forecasts.Day 1 | Day 2 | Day 3Surface AnalysisHighs, lows, fronts, troughs, outflow boundaries, squall lines, drylines for much of North America, the Western Atlantic and Eastern Pacific oceans, and the Gulf of Mexico.Standard Size | High ResolutionTemperatureMaximum daytime or minimum overnight temperature in degrees Fahrenheit. Predominant WeatherExpected weather (precipitating or non-precipitating) valid at the indicated hour.  The weather element includes type, probability, and intensity information. Wind Speed and DirectionSustained wind speed (in knots) and expected wind direction (using 36 points of a compass) forecasts. Chance of PrecipitationLikelihood, expressed as a percent, of a measurable precipitation event (1/100th of an inch).Precipitation AmountTotal amount of expected liquid precipitation.Sky CoverExpected amount of opaque clouds (in percent) covering the sky.Alaska Graphical ForecastsGraphical forecasts from the National Digital Forecast Database for Alaska.Hawaii Graphical ForecastsGraphical forecasts from the National Digital Forecast Database for Hawaii.Puerto Rico Graphical ForecastsGraphical forecasts from the National Digital Forecast Database for Puerto Rico and Virgin Islands.  Follow us on Twitter                \t\t  Follow us on Facebook                \t\t  Follow us on YouTube            \t\t\t  NWS RSS Feed\t\t\t\t\t\tACTIVE ALERTSWarnings By StateExcessive Rainfall and Winter Weather ForecastsRiver Flooding Latest WarningsThunderstorm/Tornado Outlook Hurricanes Fire Weather Outlooks UV Alerts Drought Space Weather NOAA Weather Radio NWS CAP Feeds PAST WEATHERClimate Monitoring Past Weather Monthly Temps Records Astronomical Data Certified Weather Data CURRENT CONDITIONSRadar Climate Monitoring River Levels Observed Precipitation Surface Weather Upper Air Marine and Buoy Reports Snow Cover Satellite Space Weather International ObservationsFORECASTLocal Forecast International ForecastsSevere Weather Current Outlook Maps Drought Fire Weather Fronts/Precipitation Maps Current Graphical Forecast Maps Rivers Marine Offshore and High SeasHurricanes Aviation Weather Climatic Outlook INFORMATION CENTERSpace Weather Daily Briefing Marine Climate Fire Weather Aviation Forecast Models Water GISCooperative Observers Storm Spotters Tsunami Warning SystemNational Water CenterInternational WeatherWEATHER SAFETYNOAA Weather RadioStormReadyHeat Lightning Hurricanes Thunderstorms Tornadoes Rip Currents Floods TsunamisTsunamiReadyWinter Weather Ultra Violet Radiation Air Quality Damage/Fatality/Injury Statistics Red Cross Federal Emergency Management Agency (FEMA) Brochures Safe BoatingNEWSNewsroomEventsPubs/Brochures/Booklets EDUCATIONNWS Education HomeBe A Force of NatureNOAA Education Resources Glossary JetStream NWS Training Portal NOAA Library For Students, Parents and TeachersBrochures ABOUTOrganization NWS TransformationStrategic Plan For NWS Employees International National Centers Products and Services CareersGlossary Contact Us Social MediaUS Dept of CommerceNational Oceanic and Atmospheric AdministrationNational Weather Service                        1325 East West HighwaySilver Spring, MD 20910Comments? Questions? Please Contact Us. DisclaimerInformation QualityHelpGlossaryPrivacy PolicyFreedom of Information Act (FOIA)About UsCareer OpportunitiesThank you for visiting a National Oceanic and Atmospheric Administration (NOAA) website. The link you have selected will take you to a non-U.S. Government website for additional information.NOAA is not responsible for the content of any linked website not operated by NOAA. This link is provided solely for your information and convenience, and does not imply any endorsement by NOAA or the U.S. Department of Commerce of the linked website or any information, products, or services contained therein.You will be redirected to: ContinueNew WindowCancel\n"
     ]
    }
   ],
   "source": [
    "soup = BeautifulSoup(driver.page_source, 'html.parser')\n",
    "\n",
    "# Remove the replace() method to see how the text looks with newlines\n",
    "print(soup.get_text().replace('\\n', ''))"
   ]
  },
  {
   "cell_type": "markdown",
   "id": "1a44acae-2060-46e8-84a7-89aaccb7f8c7",
   "metadata": {},
   "source": [
    "## Selenium Demo 2: Scrape Class Info from CAB! \n",
    "\n",
    "**GOAL**: Look up a series of course codes in CAB and extract a dictionary of course information for each. Return a list of class dictionaries at the end. \n",
    "\n",
    "We can use Selenium functionality to interact with a dynamic web page, and scrape data that would not originally be displayed in the source HTML.\n",
    "\n",
    "**WARNING**: When we work with elements on a web page, we need to make sure they are *loaded* before we try accessing them. Trying to access an element that has not loaded yet is a very common error that arises when using Selenium.\n",
    "\n",
    "Possible solutions:\n",
    "- Use the `wait` object to make the program stop until a certain element appears: `wait.until(EC.presence_of_element_located((By.<choose a selector to use>, \"<target tag,class,etc.>\")))`\n",
    "- Use the `time` library to force the program to pause for a fixed number of seconds at a given point in the stack: `time.sleep(<time in seconds>)` (This does NOT stop the browser from loading the elements while the program waits!)"
   ]
  },
  {
   "cell_type": "code",
   "execution_count": 14,
   "id": "b22f034a-09ab-4156-a272-f8011e2ac7e4",
   "metadata": {},
   "outputs": [],
   "source": [
    "\n",
    "def lookup_class(class_code: str, driver, actions, wait) -> None:\n",
    "    ### Moving to the search text box and selecting it ###\n",
    "    # Find the text box we will use to type in our search query\n",
    "    search_box = driver.find_element(By.CSS_SELECTOR, \"[id='crit-keyword']\")\n",
    "    \n",
    "    # Define the ActionChain. This will simulate moving your cursor to the search box and clicking on it\n",
    "    mouse = actions.move_to_element(search_box)\n",
    "    mouse.click(on_element=search_box)\n",
    "    search_box.clear()\n",
    "    ### Typing in a query and clicking enter ###\n",
    "    mouse.send_keys(class_code)\n",
    "    mouse.send_keys(Keys.ENTER)\n",
    "    mouse.perform()\n",
    "    \n",
    "    time.sleep(2)\n",
    "    # Make sure the web page was updated before moving on\n",
    "\n",
    "    ### Moving to the first result and clicking it ###\n",
    "    first_result = driver.find_element(By.CSS_SELECTOR, \"[class='result result--group-start']\")\n",
    "    mouse.move_to_element(first_result)\n",
    "    mouse.click(on_element=first_result)\n",
    "    mouse.perform()\n",
    "    \n",
    "\n",
    "def scrape_class_info(driver, wait) -> dict:\n",
    "    ### Scraping class information of interest ###\n",
    "    class_detail_dict = {}\n",
    "\n",
    "    # Make sure the web page was updated before moving on\n",
    "    wait.until(EC.presence_of_element_located((By.CSS_SELECTOR, \"[class*='course-code']\")))\n",
    "    # Collect data not in the\n",
    "    class_detail_dict['Course Code'] = driver.find_element(By.CSS_SELECTOR,  \"[class*='course-code']\").text\n",
    "    class_detail_dict['Course Name'] = driver.find_element(By.CSS_SELECTOR,  \"[class*='title text']\").text\n",
    "    \n",
    "    # Iterate through each text section to extract course details\n",
    "    # The syntax [class^='section section'] with the '^' means to find every HTML element that has a class attribute STARTING with 'section section'\n",
    "    for course_detail_sect in driver.find_elements(By.CSS_SELECTOR,  \"[class^='section section']\"):\n",
    "        \n",
    "        sect_title = course_detail_sect.find_element(By.CSS_SELECTOR, \"[class='section__title']\")\n",
    "        sect_text = course_detail_sect.find_element(By.CSS_SELECTOR, \"[class='section__content']\")\n",
    "        \n",
    "        class_detail_dict[sect_title.text] = sect_text.text\n",
    "    \n",
    "    return class_detail_dict\n",
    "\n",
    "def reset_search(driver, actions) -> None:\n",
    "    ### Find and click the button that resets the search ###\n",
    "    reset_box = driver.find_element(By.CSS_SELECTOR, \"[data-action='reset-search']\")\n",
    "    mouse = actions.move_to_element(reset_box)\n",
    "    mouse.click()\n",
    "    mouse.perform()\n",
    "\n"
   ]
  },
  {
   "cell_type": "code",
   "execution_count": 15,
   "id": "840312ef-ab2d-4471-a695-2175151c71c6",
   "metadata": {},
   "outputs": [
    {
     "name": "stdout",
     "output_type": "stream",
     "text": [
      "Unable to find class baddata!\n"
     ]
    },
    {
     "data": {
      "text/plain": [
       "[{'Course Code': 'DATA 2020',\n",
       "  'Course Name': 'Statistical Learning',\n",
       "  'Course Description': 'A modern introduction to inferential methods for regression analysis and statistical learning, with an emphasis on application in practical settings in the context of learning relationships from observed data. Topics will include basics of linear regression, variable selection and dimension reduction, and approaches to nonlinear regression. Extensions to other data structures such as longitudinal data and the fundamentals of causal inference will also be introduced.',\n",
       "  'Registration Restrictions': 'Prerequisites: DATA 1010 or 1030.\\nEnrollment limited to students in the Data Science (SCM) program.\\nEnrollment is limited to Graduate level students.\\nStudents in the Remote Study / Study Abroad cohort may not enroll.',\n",
       "  'Final Exam': \"No final exam has been scheduled for this course by the department through the registrar's office. Please consult syllabus or contact instructor.\\nIf an exam were to have scheduled, it would have been held:\\nExam Date: 14-MAY-2024  Exam Time: 02:00:00 PM  Exam Group: 09\",\n",
       "  'Schedule and Location': 'TTh 10:30am-11:50am in CIT Center (Thomas Watson CIT) 219',\n",
       "  'Instructors': 'Roberta DeVito\\nroberta_devito@brown.edu',\n",
       "  'All Sections': 'Section # CRN Meets Instructor\\nS01 26900 TTh 10:30-11:50a R. DeVito\\nVIEW CALENDAR'},\n",
       " {'Course Code': 'CSCI 2470',\n",
       "  'Course Name': 'Deep Learning',\n",
       "  'Registration Notes': 'This section is full\\nThis section is full\\nInstructor override required\\nInstructor override required',\n",
       "  'Course Description': 'Deep Learning belongs to a broader family of machine learning methods. It is a particular version of artificial neural networks that emphasizes learning representation with multiple layers of networks. Deep Learning, plus the specialized techniques that it has inspired (e.g. convolutional neural networks, recurrent neural networks, and transformers), have led to rapid improvements in many applications, such as computer vision, machine learning, sound understanding, and robotics. This course gives students an overview of the prominent techniques of Deep Learning and its applications in computer vision, language understanding, and other areas. It also provides hands-on practice of implementing deep learning algorithms in Python. A final project will implement an advanced piece of work in one of these areas. Prerequisites: basic programming: (CSCI 0150, 0170, 0190); linear algebra: (CSCI 0530, MATH 0520, 0540); stats/probability: (CSCI 0220, 1450, 0450, MATH 1610, APMA 1650, 1655)',\n",
       "  'Registration Restrictions': 'Enrollment is limited to Graduate level students.\\nStudents in the Remote Study / Study Abroad cohort may not enroll.',\n",
       "  'Final Exam': \"No final exam has been scheduled for this course by the department through the registrar's office. Please consult syllabus or contact instructor.\\nIf an exam were to have scheduled, it would have been held:\\nExam Date: 16-MAY-2024  Exam Time: 09:00:00 AM  Exam Group: 01\",\n",
       "  'Schedule and Location': 'MWF 12pm-12:50pm in Salomon Center DECI',\n",
       "  'Instructors': 'Ritambhara Singh\\nritambhara_singh@brown.edu',\n",
       "  'All Sections': 'Section # CRN Meets Instructor\\nS01 26231 MWF 12-12:50p R. Singh\\nVIEW CALENDAR'},\n",
       " {'Course Code': 'DATA 2050',\n",
       "  'Course Name': 'Data Science Practicum',\n",
       "  'Course Description': 'This course is a requirement for master’s students in Data Science and is only open to them. The course includes a semester-long capstone project as well as instruction on topics that prepare students for working as data scientists, such as requirements gathering, version control, bug tracking, software deployment, and other professional development. Capstone projects will be sourced from entities in Brown (departments, labs, researchers, etc.) as well as external entities (companies, nonprofits, etc.) and will engage most of the core components of data science: Data sculpting (data cleaning, formatting, feature selection, etc.), exploratory data analysis, data modeling, and data visualization. Students will also address any social and ethical issues raised by their project. Students will usually work in teams of 3 - 4.',\n",
       "  'Registration Restrictions': 'Prerequisites: DATA 1030 and 1050.\\nEnrollment limited to students in the Data Science (SCM) program.\\nEnrollment is limited to Graduate level students.\\nStudents in the Remote Study / Study Abroad cohort may not enroll.',\n",
       "  'Class Notes': \"This course is restricted to students in the Data Science master's program.\",\n",
       "  'Final Exam': \"No final exam has been scheduled for this course by the department through the registrar's office. Please consult syllabus or contact instructor.\\nIf an exam were to have scheduled, it would have been held:\\nExam Date: 08-MAY-2024  Exam Time: 09:00:00 AM  Exam Group: 10\",\n",
       "  'Schedule and Location': 'W 3pm-5:30pm in Sayles Hall 305',\n",
       "  'Instructors': 'Shekhar Pradhan\\nshekhar_pradhan@brown.edu',\n",
       "  'All Sections': 'Section # CRN Meets Instructor\\nS01 27163 W 3-5:30p S. Pradhan\\nVIEW CALENDAR'}]"
      ]
     },
     "execution_count": 15,
     "metadata": {},
     "output_type": "execute_result"
    }
   ],
   "source": [
    "url = 'https://cab.brown.edu/'\n",
    "# Load the URL on the Selenium browser instance\n",
    "driver.get(url)\n",
    "\n",
    "schedule = ['DATA2020', 'CS2470', 'DATA2050', 'baddata']\n",
    "class_info_list = []\n",
    "\n",
    "for class_code in schedule:\n",
    "    try:\n",
    "        lookup_class(class_code=class_code, driver=driver, actions=actions, wait=wait)\n",
    "    except:\n",
    "        print(f'Unable to find class {class_code}!')\n",
    "        continue\n",
    "    class_data = scrape_class_info(driver=driver, wait=wait)\n",
    "\n",
    "    reset_search(driver=driver, actions=actions)\n",
    "\n",
    "    class_info_list.append(class_data)\n",
    "\n",
    "driver.quit()\n",
    "class_info_list"
   ]
  },
  {
   "cell_type": "code",
   "execution_count": null,
   "id": "d44a73ad-42d9-48c3-93b1-e82a04ebfda4",
   "metadata": {},
   "outputs": [],
   "source": []
  }
 ],
 "metadata": {
  "kernelspec": {
   "display_name": "Python 3 (ipykernel)",
   "language": "python",
   "name": "python3"
  },
  "language_info": {
   "codemirror_mode": {
    "name": "ipython",
    "version": 3
   },
   "file_extension": ".py",
   "mimetype": "text/x-python",
   "name": "python",
   "nbconvert_exporter": "python",
   "pygments_lexer": "ipython3",
   "version": "3.12.1"
  }
 },
 "nbformat": 4,
 "nbformat_minor": 5
}
